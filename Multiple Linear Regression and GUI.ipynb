{
 "cells": [
  {
   "cell_type": "code",
   "execution_count": 1,
   "id": "9ef3d08a",
   "metadata": {},
   "outputs": [],
   "source": [
    "import pandas as pd\n",
    "from sklearn import linear_model\n",
    "import tkinter as tk \n",
    "import matplotlib.pyplot as plt\n",
    "from matplotlib.backends.backend_tkagg import FigureCanvasTkAgg"
   ]
  },
  {
   "cell_type": "code",
   "execution_count": 2,
   "id": "548f3277",
   "metadata": {},
   "outputs": [],
   "source": [
    "Stock_Market = {'Year': [2017,2017,2017,2017,2017,2017,2017,2017,2017,2017,2017,2017,2016,2016,2016,2016,2016,2016,2016,2016,2016,2016,2016,2016],\n",
    "                'Month': [12, 11,10,9,8,7,6,5,4,3,2,1,12,11,10,9,8,7,6,5,4,3,2,1],\n",
    "                'Interest_Rate': [2.75,2.5,2.5,2.5,2.5,2.5,2.5,2.25,2.25,2.25,2,2,2,1.75,1.75,1.75,1.75,1.75,1.75,1.75,1.75,1.75,1.75,1.75],\n",
    "                'Unemployment_Rate': [5.3,5.3,5.3,5.3,5.4,5.6,5.5,5.5,5.5,5.6,5.7,5.9,6,5.9,5.8,6.1,6.2,6.1,6.1,6.1,5.9,6.2,6.2,6.1],\n",
    "                'Stock_Index_Price': [1464,1394,1357,1293,1256,1254,1234,1195,1159,1167,1130,1075,1047,965,943,958,971,949,884,866,876,822,704,719]        \n",
    "                }"
   ]
  },
  {
   "cell_type": "code",
   "execution_count": 3,
   "id": "1474a6a8",
   "metadata": {},
   "outputs": [],
   "source": [
    "df = pd.DataFrame(Stock_Market,columns=['Year','Month','Interest_Rate','Unemployment_Rate','Stock_Index_Price']) \n",
    "\n",
    "X = df[['Interest_Rate','Unemployment_Rate']].astype(float) # here we have 2 input variables for multiple regression. If you just want to use one variable for simple linear regression, then use X = df['Interest_Rate'] for example.Alternatively, you may add additional variables within the brackets\n",
    "Y = df['Stock_Index_Price'].astype(float) # output variable (what we are trying to predict)"
   ]
  },
  {
   "cell_type": "code",
   "execution_count": 4,
   "id": "01f83b4e",
   "metadata": {},
   "outputs": [
    {
     "name": "stdout",
     "output_type": "stream",
     "text": [
      "Intercept: \n",
      " 1798.403977625855\n",
      "Coefficients: \n",
      " [ 345.54008701 -250.14657137]\n"
     ]
    }
   ],
   "source": [
    "# with sklearn\n",
    "regr = linear_model.LinearRegression()\n",
    "regr.fit(X, Y)\n",
    "\n",
    "print('Intercept: \\n', regr.intercept_)\n",
    "print('Coefficients: \\n', regr.coef_)"
   ]
  },
  {
   "cell_type": "code",
   "execution_count": 5,
   "id": "d0166739",
   "metadata": {},
   "outputs": [],
   "source": [
    "# tkinter GUI\n",
    "root= tk.Tk()\n",
    "\n",
    "canvas1 = tk.Canvas(root, width = 500, height = 300)\n",
    "canvas1.pack()"
   ]
  },
  {
   "cell_type": "code",
   "execution_count": 6,
   "id": "adb1e69e",
   "metadata": {},
   "outputs": [
    {
     "data": {
      "text/plain": [
       "1"
      ]
     },
     "execution_count": 6,
     "metadata": {},
     "output_type": "execute_result"
    }
   ],
   "source": [
    "# with sklearn\n",
    "Intercept_result = ('Intercept: ', regr.intercept_)\n",
    "label_Intercept = tk.Label(root, text=Intercept_result, justify = 'center')\n",
    "canvas1.create_window(260, 220, window=label_Intercept)"
   ]
  },
  {
   "cell_type": "code",
   "execution_count": 7,
   "id": "8587ab29",
   "metadata": {},
   "outputs": [
    {
     "data": {
      "text/plain": [
       "2"
      ]
     },
     "execution_count": 7,
     "metadata": {},
     "output_type": "execute_result"
    }
   ],
   "source": [
    "# with sklearn\n",
    "Coefficients_result  = ('Coefficients: ', regr.coef_)\n",
    "label_Coefficients = tk.Label(root, text=Coefficients_result, justify = 'center')\n",
    "canvas1.create_window(260, 240, window=label_Coefficients)"
   ]
  },
  {
   "cell_type": "code",
   "execution_count": 8,
   "id": "dd286d02",
   "metadata": {},
   "outputs": [
    {
     "data": {
      "text/plain": [
       "4"
      ]
     },
     "execution_count": 8,
     "metadata": {},
     "output_type": "execute_result"
    }
   ],
   "source": [
    "# New_Interest_Rate label and input box\n",
    "label1 = tk.Label(root, text='Type Interest Rate: ')\n",
    "canvas1.create_window(100, 100, window=label1)\n",
    "\n",
    "entry1 = tk.Entry (root) # create 1st entry box\n",
    "canvas1.create_window(270, 100, window=entry1)"
   ]
  },
  {
   "cell_type": "code",
   "execution_count": 9,
   "id": "cfb75e8e",
   "metadata": {},
   "outputs": [
    {
     "data": {
      "text/plain": [
       "6"
      ]
     },
     "execution_count": 9,
     "metadata": {},
     "output_type": "execute_result"
    }
   ],
   "source": [
    "# New_Unemployment_Rate label and input box\n",
    "label2 = tk.Label(root, text=' Type Unemployment Rate: ')\n",
    "canvas1.create_window(120, 120, window=label2)\n",
    "\n",
    "entry2 = tk.Entry (root) # create 2nd entry box\n",
    "canvas1.create_window(270, 120, window=entry2)"
   ]
  },
  {
   "cell_type": "code",
   "execution_count": 10,
   "id": "26678b6f",
   "metadata": {},
   "outputs": [
    {
     "data": {
      "text/plain": [
       "7"
      ]
     },
     "execution_count": 10,
     "metadata": {},
     "output_type": "execute_result"
    }
   ],
   "source": [
    "def values(): \n",
    "    global New_Interest_Rate #our 1st input variable\n",
    "    New_Interest_Rate = float(entry1.get()) \n",
    "    \n",
    "    global New_Unemployment_Rate #our 2nd input variable\n",
    "    New_Unemployment_Rate = float(entry2.get()) \n",
    "    \n",
    "    Prediction_result  = ('Predicted Stock Index Price: ', regr.predict([[New_Interest_Rate ,New_Unemployment_Rate]]))\n",
    "    label_Prediction = tk.Label(root, text= Prediction_result, bg='orange')\n",
    "    canvas1.create_window(260, 280, window=label_Prediction)\n",
    "    \n",
    "button1 = tk.Button (root, text='Predict Stock Index Price',command=values, bg='orange') # button to call the 'values' command above \n",
    "canvas1.create_window(270, 150, window=button1)"
   ]
  },
  {
   "cell_type": "code",
   "execution_count": 11,
   "id": "9ff1855c",
   "metadata": {},
   "outputs": [
    {
     "data": {
      "text/plain": [
       "Text(0.5, 1.0, 'Interest Rate Vs. Stock Index Price')"
      ]
     },
     "execution_count": 11,
     "metadata": {},
     "output_type": "execute_result"
    }
   ],
   "source": [
    "#plot 1st scatter \n",
    "figure3 = plt.Figure(figsize=(5,4), dpi=100)\n",
    "ax3 = figure3.add_subplot(111)\n",
    "ax3.scatter(df['Interest_Rate'].astype(float),df['Stock_Index_Price'].astype(float), color = 'r')\n",
    "scatter3 = FigureCanvasTkAgg(figure3, root) \n",
    "scatter3.get_tk_widget().pack(side=tk.RIGHT, fill=tk.BOTH)\n",
    "ax3.legend(['Stock_Index_Price']) \n",
    "ax3.set_xlabel('Interest Rate')\n",
    "ax3.set_title('Interest Rate Vs. Stock Index Price')\n"
   ]
  },
  {
   "cell_type": "code",
   "execution_count": 12,
   "id": "36e4bcb6",
   "metadata": {},
   "outputs": [
    {
     "data": {
      "text/plain": [
       "Text(0.5, 1.0, 'Unemployment_Rate Vs. Stock Index Price')"
      ]
     },
     "execution_count": 12,
     "metadata": {},
     "output_type": "execute_result"
    }
   ],
   "source": [
    "#plot 2nd scatter \n",
    "figure4 = plt.Figure(figsize=(5,4), dpi=100)\n",
    "ax4 = figure4.add_subplot(111)\n",
    "ax4.scatter(df['Unemployment_Rate'].astype(float),df['Stock_Index_Price'].astype(float), color = 'g')\n",
    "scatter4 = FigureCanvasTkAgg(figure4, root) \n",
    "scatter4.get_tk_widget().pack(side=tk.RIGHT, fill=tk.BOTH)\n",
    "ax4.legend(['Stock_Index_Price']) \n",
    "ax4.set_xlabel('Unemployment_Rate')\n",
    "ax4.set_title('Unemployment_Rate Vs. Stock Index Price')"
   ]
  },
  {
   "cell_type": "code",
   "execution_count": 13,
   "id": "61d8d829",
   "metadata": {},
   "outputs": [
    {
     "name": "stderr",
     "output_type": "stream",
     "text": [
      "C:\\Users\\AL MADINA COMPUTER\\anaconda3\\lib\\site-packages\\sklearn\\base.py:450: UserWarning: X does not have valid feature names, but LinearRegression was fitted with feature names\n",
      "  warnings.warn(\n"
     ]
    }
   ],
   "source": [
    "root.mainloop()"
   ]
  },
  {
   "cell_type": "code",
   "execution_count": null,
   "id": "910fc9d9",
   "metadata": {},
   "outputs": [],
   "source": []
  }
 ],
 "metadata": {
  "kernelspec": {
   "display_name": "Python 3 (ipykernel)",
   "language": "python",
   "name": "python3"
  },
  "language_info": {
   "codemirror_mode": {
    "name": "ipython",
    "version": 3
   },
   "file_extension": ".py",
   "mimetype": "text/x-python",
   "name": "python",
   "nbconvert_exporter": "python",
   "pygments_lexer": "ipython3",
   "version": "3.9.13"
  }
 },
 "nbformat": 4,
 "nbformat_minor": 5
}

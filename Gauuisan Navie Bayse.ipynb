{
 "cells": [
  {
   "cell_type": "code",
   "execution_count": 12,
   "id": "95b578b0",
   "metadata": {},
   "outputs": [],
   "source": [
    "import pandas as pd\n",
    "import numpy as np\n",
    "from sklearn import datasets \n",
    "from sklearn.model_selection import train_test_split\n",
    "from sklearn.naive_bayes import GaussianNB"
   ]
  },
  {
   "cell_type": "code",
   "execution_count": 13,
   "id": "d1c44ff9",
   "metadata": {},
   "outputs": [],
   "source": [
    "#df=pd.read_csv(r'C:/Users/AL MADINA COMPUTER/Desktop/Machine Learning/iris.csv')\n",
    "#df.head()\n",
    "df=datasets.load_iris()"
   ]
  },
  {
   "cell_type": "code",
   "execution_count": 17,
   "id": "b272be5a",
   "metadata": {},
   "outputs": [
    {
     "name": "stdout",
     "output_type": "stream",
     "text": [
      "GaussianNB()\n"
     ]
    }
   ],
   "source": [
    "model=GaussianNB()\n",
    "model.fit(df.data, df.target)\n",
    "print(model)"
   ]
  },
  {
   "cell_type": "code",
   "execution_count": 18,
   "id": "44c5b554",
   "metadata": {},
   "outputs": [],
   "source": [
    "expected=df.target"
   ]
  },
  {
   "cell_type": "code",
   "execution_count": 21,
   "id": "70240e86",
   "metadata": {},
   "outputs": [],
   "source": [
    "predicted=model.predict(df.data)"
   ]
  },
  {
   "cell_type": "code",
   "execution_count": null,
   "id": "d72a4f5c",
   "metadata": {},
   "outputs": [],
   "source": [
    "print(metrics.classification)"
   ]
  }
 ],
 "metadata": {
  "kernelspec": {
   "display_name": "Python 3 (ipykernel)",
   "language": "python",
   "name": "python3"
  },
  "language_info": {
   "codemirror_mode": {
    "name": "ipython",
    "version": 3
   },
   "file_extension": ".py",
   "mimetype": "text/x-python",
   "name": "python",
   "nbconvert_exporter": "python",
   "pygments_lexer": "ipython3",
   "version": "3.9.13"
  }
 },
 "nbformat": 4,
 "nbformat_minor": 5
}

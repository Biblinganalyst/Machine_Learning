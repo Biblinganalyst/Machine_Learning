{
 "cells": [
  {
   "cell_type": "code",
   "execution_count": 2,
   "id": "8aee2f23",
   "metadata": {},
   "outputs": [],
   "source": [
    "#import library\n",
    "\n",
    "\n",
    "import pandas as pd\n",
    "import matplotlib.pyplot as plt\n",
    "from sklearn.preprocessing import StandardScaler\n",
    "from sklearn.model_selection import train_test_split\n",
    "from sklearn.linear_model import LinearRegression"
   ]
  },
  {
   "cell_type": "code",
   "execution_count": 4,
   "id": "a88b6cd2",
   "metadata": {},
   "outputs": [
    {
     "data": {
      "text/html": [
       "<div>\n",
       "<style scoped>\n",
       "    .dataframe tbody tr th:only-of-type {\n",
       "        vertical-align: middle;\n",
       "    }\n",
       "\n",
       "    .dataframe tbody tr th {\n",
       "        vertical-align: top;\n",
       "    }\n",
       "\n",
       "    .dataframe thead th {\n",
       "        text-align: right;\n",
       "    }\n",
       "</style>\n",
       "<table border=\"1\" class=\"dataframe\">\n",
       "  <thead>\n",
       "    <tr style=\"text-align: right;\">\n",
       "      <th></th>\n",
       "      <th>MODELYEAR</th>\n",
       "      <th>MAKE</th>\n",
       "      <th>MODEL</th>\n",
       "      <th>VEHICLECLASS</th>\n",
       "      <th>ENGINESIZE</th>\n",
       "      <th>CYLINDERS</th>\n",
       "      <th>TRANSMISSION</th>\n",
       "      <th>FUELTYPE</th>\n",
       "      <th>FUELCONSUMPTION_CITY</th>\n",
       "      <th>FUELCONSUMPTION_HWY</th>\n",
       "      <th>FUELCONSUMPTION_COMB</th>\n",
       "      <th>FUELCONSUMPTION_COMB_MPG</th>\n",
       "      <th>CO2EMISSIONS</th>\n",
       "    </tr>\n",
       "  </thead>\n",
       "  <tbody>\n",
       "    <tr>\n",
       "      <th>0</th>\n",
       "      <td>2014</td>\n",
       "      <td>ACURA</td>\n",
       "      <td>ILX</td>\n",
       "      <td>COMPACT</td>\n",
       "      <td>2.0</td>\n",
       "      <td>4</td>\n",
       "      <td>AS5</td>\n",
       "      <td>Z</td>\n",
       "      <td>9.9</td>\n",
       "      <td>6.7</td>\n",
       "      <td>8.5</td>\n",
       "      <td>33</td>\n",
       "      <td>196</td>\n",
       "    </tr>\n",
       "    <tr>\n",
       "      <th>1</th>\n",
       "      <td>2014</td>\n",
       "      <td>ACURA</td>\n",
       "      <td>ILX</td>\n",
       "      <td>COMPACT</td>\n",
       "      <td>2.4</td>\n",
       "      <td>4</td>\n",
       "      <td>M6</td>\n",
       "      <td>Z</td>\n",
       "      <td>11.2</td>\n",
       "      <td>7.7</td>\n",
       "      <td>9.6</td>\n",
       "      <td>29</td>\n",
       "      <td>221</td>\n",
       "    </tr>\n",
       "    <tr>\n",
       "      <th>2</th>\n",
       "      <td>2014</td>\n",
       "      <td>ACURA</td>\n",
       "      <td>ILX HYBRID</td>\n",
       "      <td>COMPACT</td>\n",
       "      <td>1.5</td>\n",
       "      <td>4</td>\n",
       "      <td>AV7</td>\n",
       "      <td>Z</td>\n",
       "      <td>6.0</td>\n",
       "      <td>5.8</td>\n",
       "      <td>5.9</td>\n",
       "      <td>48</td>\n",
       "      <td>136</td>\n",
       "    </tr>\n",
       "    <tr>\n",
       "      <th>3</th>\n",
       "      <td>2014</td>\n",
       "      <td>ACURA</td>\n",
       "      <td>MDX 4WD</td>\n",
       "      <td>SUV - SMALL</td>\n",
       "      <td>3.5</td>\n",
       "      <td>6</td>\n",
       "      <td>AS6</td>\n",
       "      <td>Z</td>\n",
       "      <td>12.7</td>\n",
       "      <td>9.1</td>\n",
       "      <td>11.1</td>\n",
       "      <td>25</td>\n",
       "      <td>255</td>\n",
       "    </tr>\n",
       "    <tr>\n",
       "      <th>4</th>\n",
       "      <td>2014</td>\n",
       "      <td>ACURA</td>\n",
       "      <td>RDX AWD</td>\n",
       "      <td>SUV - SMALL</td>\n",
       "      <td>3.5</td>\n",
       "      <td>6</td>\n",
       "      <td>AS6</td>\n",
       "      <td>Z</td>\n",
       "      <td>12.1</td>\n",
       "      <td>8.7</td>\n",
       "      <td>10.6</td>\n",
       "      <td>27</td>\n",
       "      <td>244</td>\n",
       "    </tr>\n",
       "  </tbody>\n",
       "</table>\n",
       "</div>"
      ],
      "text/plain": [
       "   MODELYEAR   MAKE       MODEL VEHICLECLASS  ENGINESIZE  CYLINDERS  \\\n",
       "0       2014  ACURA         ILX      COMPACT         2.0          4   \n",
       "1       2014  ACURA         ILX      COMPACT         2.4          4   \n",
       "2       2014  ACURA  ILX HYBRID      COMPACT         1.5          4   \n",
       "3       2014  ACURA     MDX 4WD  SUV - SMALL         3.5          6   \n",
       "4       2014  ACURA     RDX AWD  SUV - SMALL         3.5          6   \n",
       "\n",
       "  TRANSMISSION FUELTYPE  FUELCONSUMPTION_CITY  FUELCONSUMPTION_HWY  \\\n",
       "0          AS5        Z                   9.9                  6.7   \n",
       "1           M6        Z                  11.2                  7.7   \n",
       "2          AV7        Z                   6.0                  5.8   \n",
       "3          AS6        Z                  12.7                  9.1   \n",
       "4          AS6        Z                  12.1                  8.7   \n",
       "\n",
       "   FUELCONSUMPTION_COMB  FUELCONSUMPTION_COMB_MPG  CO2EMISSIONS  \n",
       "0                   8.5                        33           196  \n",
       "1                   9.6                        29           221  \n",
       "2                   5.9                        48           136  \n",
       "3                  11.1                        25           255  \n",
       "4                  10.6                        27           244  "
      ]
     },
     "execution_count": 4,
     "metadata": {},
     "output_type": "execute_result"
    }
   ],
   "source": [
    "#Import CSV file\n",
    "\n",
    "df=pd.read_csv(r'C:/Users/AL MADINA COMPUTER/Desktop/Machine Learning/FuelConsumption.csv')\n",
    "df.head()"
   ]
  },
  {
   "cell_type": "code",
   "execution_count": 14,
   "id": "2ab38a3e",
   "metadata": {},
   "outputs": [
    {
     "data": {
      "text/html": [
       "<div>\n",
       "<style scoped>\n",
       "    .dataframe tbody tr th:only-of-type {\n",
       "        vertical-align: middle;\n",
       "    }\n",
       "\n",
       "    .dataframe tbody tr th {\n",
       "        vertical-align: top;\n",
       "    }\n",
       "\n",
       "    .dataframe thead th {\n",
       "        text-align: right;\n",
       "    }\n",
       "</style>\n",
       "<table border=\"1\" class=\"dataframe\">\n",
       "  <thead>\n",
       "    <tr style=\"text-align: right;\">\n",
       "      <th></th>\n",
       "      <th>ENGINESIZE</th>\n",
       "      <th>CYLINDERS</th>\n",
       "      <th>FUELCONSUMPTION_CITY</th>\n",
       "      <th>FUELCONSUMPTION_HWY</th>\n",
       "      <th>FUELCONSUMPTION_COMB</th>\n",
       "    </tr>\n",
       "  </thead>\n",
       "  <tbody>\n",
       "    <tr>\n",
       "      <th>0</th>\n",
       "      <td>2.0</td>\n",
       "      <td>4</td>\n",
       "      <td>9.9</td>\n",
       "      <td>6.7</td>\n",
       "      <td>8.5</td>\n",
       "    </tr>\n",
       "    <tr>\n",
       "      <th>1</th>\n",
       "      <td>2.4</td>\n",
       "      <td>4</td>\n",
       "      <td>11.2</td>\n",
       "      <td>7.7</td>\n",
       "      <td>9.6</td>\n",
       "    </tr>\n",
       "    <tr>\n",
       "      <th>2</th>\n",
       "      <td>1.5</td>\n",
       "      <td>4</td>\n",
       "      <td>6.0</td>\n",
       "      <td>5.8</td>\n",
       "      <td>5.9</td>\n",
       "    </tr>\n",
       "    <tr>\n",
       "      <th>3</th>\n",
       "      <td>3.5</td>\n",
       "      <td>6</td>\n",
       "      <td>12.7</td>\n",
       "      <td>9.1</td>\n",
       "      <td>11.1</td>\n",
       "    </tr>\n",
       "    <tr>\n",
       "      <th>4</th>\n",
       "      <td>3.5</td>\n",
       "      <td>6</td>\n",
       "      <td>12.1</td>\n",
       "      <td>8.7</td>\n",
       "      <td>10.6</td>\n",
       "    </tr>\n",
       "  </tbody>\n",
       "</table>\n",
       "</div>"
      ],
      "text/plain": [
       "   ENGINESIZE  CYLINDERS  FUELCONSUMPTION_CITY  FUELCONSUMPTION_HWY  \\\n",
       "0         2.0          4                   9.9                  6.7   \n",
       "1         2.4          4                  11.2                  7.7   \n",
       "2         1.5          4                   6.0                  5.8   \n",
       "3         3.5          6                  12.7                  9.1   \n",
       "4         3.5          6                  12.1                  8.7   \n",
       "\n",
       "   FUELCONSUMPTION_COMB  \n",
       "0                   8.5  \n",
       "1                   9.6  \n",
       "2                   5.9  \n",
       "3                  11.1  \n",
       "4                  10.6  "
      ]
     },
     "execution_count": 14,
     "metadata": {},
     "output_type": "execute_result"
    }
   ],
   "source": [
    "#identify input and output\n",
    "\n",
    "x=df[['ENGINESIZE', 'CYLINDERS', 'FUELCONSUMPTION_CITY', 'FUELCONSUMPTION_HWY', 'FUELCONSUMPTION_COMB' ]]\n",
    "y=df['CO2EMISSIONS']\n",
    "x.head()"
   ]
  },
  {
   "cell_type": "code",
   "execution_count": 16,
   "id": "d0b6495c",
   "metadata": {},
   "outputs": [
    {
     "data": {
      "image/png": "[encoded data removed]",
      "text/plain": [
       "<Figure size 640x480 with 1 Axes>"
      ]
     },
     "metadata": {},
     "output_type": "display_data"
    }
   ],
   "source": [
    "#scatter plot among two variables\n",
    "\n",
    "\n",
    "plt.scatter(x.ENGINESIZE, x.FUELCONSUMPTION_HWY, color='blue')\n",
    "plt.xlabel(\"Engine Size\")\n",
    "plt.ylabel(\"Emission\")\n",
    "plt.show()"
   ]
  },
  {
   "cell_type": "code",
   "execution_count": null,
   "id": "75b5e176",
   "metadata": {},
   "outputs": [],
   "source": []
  },
  {
   "cell_type": "code",
   "execution_count": 17,
   "id": "96f4691d",
   "metadata": {},
   "outputs": [],
   "source": [
    "#break dataset to train and test\n",
    "\n",
    "x_train, x_test, y_train, y_test = train_test_split(x,y, test_size=0.25, random_state=True)"
   ]
  },
  {
   "cell_type": "code",
   "execution_count": 19,
   "id": "8e9e3637",
   "metadata": {},
   "outputs": [
    {
     "data": {
      "text/plain": [
       "LinearRegression()"
      ]
     },
     "execution_count": 19,
     "metadata": {},
     "output_type": "execute_result"
    }
   ],
   "source": [
    "#Initilazition of linear regression\n",
    "\n",
    "model=LinearRegression()\n",
    "model.fit(x_train, y_train)"
   ]
  },
  {
   "cell_type": "code",
   "execution_count": 20,
   "id": "9e7912a8",
   "metadata": {},
   "outputs": [
    {
     "data": {
      "text/plain": [
       "array([256.85430952, 193.05056147, 198.99930061, 183.72083193,\n",
       "       305.94233493, 222.74135994, 187.25857691, 193.93636431,\n",
       "       236.29799128, 196.92207277, 218.10497182, 260.7084944 ,\n",
       "       201.04849703, 363.91839649, 202.23241839, 193.30878855,\n",
       "       193.06998605, 314.98050874, 262.91648943, 215.00367031,\n",
       "       442.81462183, 215.05443362, 253.61804451, 257.65690712,\n",
       "       279.02343484, 238.91098281, 162.13601691, 287.07441713,\n",
       "       186.46884109, 232.5235709 , 228.98816347, 367.77258137,\n",
       "       245.561842  , 361.75573411, 285.22937036, 315.53575114,\n",
       "       351.69144259, 179.38048936, 343.79618418, 257.49921171,\n",
       "       238.91098281, 371.66789883, 216.24591274, 258.49845533,\n",
       "       255.33988184, 203.12572486, 189.11427455, 158.92564362,\n",
       "       181.86072377, 250.17001344, 188.60118864, 335.25603489,\n",
       "       329.00794289, 345.17239968, 212.63803399, 268.89651318,\n",
       "       207.51026796, 283.91143312, 264.28944493, 183.61384571,\n",
       "       210.58673941, 237.09174266, 208.1572683 , 195.39142186,\n",
       "       216.24591274, 192.96741035, 260.43526006, 254.80847454,\n",
       "       203.77057293, 210.75304165, 212.63803399, 210.37171789,\n",
       "       303.39514291, 244.6188213 , 356.58586572, 316.77374313,\n",
       "       174.11445249, 310.60904165, 206.03688903, 262.29536822,\n",
       "       334.09048904, 184.07076284, 312.44536883, 324.23895399,\n",
       "       210.37171789, 354.15219831, 253.75090986, 252.96773684,\n",
       "       204.46728751, 250.093371  , 340.91520822, 295.87378845,\n",
       "       184.66385264, 249.27775605, 213.93539612, 205.15003711,\n",
       "       340.66890209, 391.45631964, 220.53654108, 289.27369257,\n",
       "       212.20054144, 335.57798851, 217.27103549, 263.15082729,\n",
       "       202.91070335, 295.87378845, 192.13242494, 361.75573411,\n",
       "       198.65146785, 206.03688903, 219.74470711, 361.17781846,\n",
       "       359.01623034, 305.27806228, 361.75573411, 253.99285959,\n",
       "       209.34014059, 215.13653567, 320.30266707, 198.11244869,\n",
       "       255.82708862, 278.4271978 , 205.01176628, 262.04906209,\n",
       "       192.23395156, 208.67581382, 318.28166215, 330.89527278,\n",
       "       324.08666405, 201.82836273, 209.8521233 , 186.46884109,\n",
       "       264.32078367, 322.36359238, 389.36360576, 321.5438063 ,\n",
       "       389.08501327, 193.0440528 , 307.74527935, 224.54191269,\n",
       "       184.04482959, 210.91619666, 205.60044556, 172.29864629,\n",
       "       284.46782604, 206.8978077 , 368.9152687 , 347.62328528,\n",
       "       315.53575114, 265.96051895, 202.41704201, 254.0252474 ,\n",
       "       366.01082366, 344.79968275, 229.51852169, 205.56805775,\n",
       "       284.07345523, 328.78670621, 195.06952236, 198.46679011,\n",
       "       179.08887951, 249.15035029, 277.61809153, 182.53906285,\n",
       "       261.65151511, 318.90824295, 230.02291695, 255.01798234,\n",
       "       314.86392074, 236.4038743 , 323.94605568, 291.50541446,\n",
       "       293.29208153, 188.60118864, 321.13765248, 257.5510241 ,\n",
       "       389.34213715, 252.91697353, 164.71663322, 442.81462183,\n",
       "       304.88056941, 361.75573411, 251.52459344, 191.96926993,\n",
       "       301.39020113, 248.33473534, 228.39609757, 243.59369854,\n",
       "       310.42186627, 184.75351244, 208.78384911, 184.74700376,\n",
       "       207.75767729, 378.66123262, 295.87378845, 268.84574987,\n",
       "       253.54245114, 250.17001344, 321.94570968, 295.87378845,\n",
       "       244.89106068, 259.78930879, 255.85296775, 307.27526105,\n",
       "       264.67512509, 214.87841683, 188.60118864, 253.69474107,\n",
       "       220.07311528, 275.03638461, 188.60118864, 267.25137241,\n",
       "       261.16221017, 166.48818479, 261.97992328, 329.8993906 ,\n",
       "       213.16839221, 310.52462724, 290.62722349, 168.65292014,\n",
       "       186.46884109, 206.03688903, 243.13893369, 255.58729116,\n",
       "       328.78670621, 240.5507181 , 305.27806228, 193.3152431 ,\n",
       "       248.49893943, 220.85516296, 249.00551666, 187.60199914,\n",
       "       178.41263859, 341.50283842, 312.16982212, 205.41030822,\n",
       "       190.94414718, 301.42699946, 371.74433082, 336.06619025,\n",
       "       352.19371076, 244.05373772, 198.46679011, 354.15219831,\n",
       "       350.84563943, 264.08203529, 197.94929368, 245.18267052,\n",
       "       228.42203082, 270.51031521, 305.29643778, 260.21918946,\n",
       "       251.41010359, 329.68001269, 192.39920473, 269.03693628,\n",
       "       345.22218641, 283.19411373, 308.64404542, 300.07346853,\n",
       "       271.21353846, 243.37978022, 319.49563377, 330.49016804,\n",
       "       200.70171336, 258.95426926, 183.82886723])"
      ]
     },
     "execution_count": 20,
     "metadata": {},
     "output_type": "execute_result"
    }
   ],
   "source": [
    "#predictin of linear model\n",
    "\n",
    "model.predict(x_test)"
   ]
  },
  {
   "cell_type": "code",
   "execution_count": 21,
   "id": "3b390d8e",
   "metadata": {},
   "outputs": [
    {
     "name": "stdout",
     "output_type": "stream",
     "text": [
      "Coefficients: [ 11.57988105   6.33437776  -9.68953963 -10.51056006  29.63030677]\n"
     ]
    }
   ],
   "source": [
    "#to calculate the coefficients\n",
    "\n",
    "print('Coefficients:',model.coef_)"
   ]
  },
  {
   "cell_type": "code",
   "execution_count": 28,
   "id": "e3a2ed3a",
   "metadata": {},
   "outputs": [
    {
     "name": "stdout",
     "output_type": "stream",
     "text": [
      "Residual sum of square: 567.89\n",
      "variance score: 0.86\n"
     ]
    },
    {
     "name": "stderr",
     "output_type": "stream",
     "text": [
      "C:\\Users\\AL MADINA COMPUTER\\anaconda3\\lib\\site-packages\\sklearn\\base.py:450: UserWarning: X does not have valid feature names, but LinearRegression was fitted with feature names\n",
      "  warnings.warn(\n"
     ]
    }
   ],
   "source": [
    "#Metod to improve the error\n",
    "\n",
    "y_hat=model.predict(x_test)\n",
    "import numpy as np\n",
    "x=np.asanyarray(x_test)\n",
    "y=np.asanyarray(y_test)\n",
    "print(\"Residual sum of square: %0.2f\"% np.mean((y_hat-y)**2))\n",
    "\n",
    "print('variance score: %.2f'% model.score(x,y))"
   ]
  },
  {
   "cell_type": "code",
   "execution_count": 30,
   "id": "aa46c69d",
   "metadata": {},
   "outputs": [
    {
     "name": "stdout",
     "output_type": "stream",
     "text": [
      "Residual sum of square: 567.89\n",
      "variance score: 0.86\n"
     ]
    }
   ],
   "source": [
    "#Method to find the mean square error and variance\n",
    "\n",
    "y_hat=model.predict(x_test)\n",
    "print(\"Residual sum of square: %0.2f\"% np.mean((y_hat-y_test)**2))\n",
    "print('variance score: %.2f'% model.score(x_test,y_test))"
   ]
  }
 ],
 "metadata": {
  "kernelspec": {
   "display_name": "Python 3 (ipykernel)",
   "language": "python",
   "name": "python3"
  },
  "language_info": {
   "codemirror_mode": {
    "name": "ipython",
    "version": 3
   },
   "file_extension": ".py",
   "mimetype": "text/x-python",
   "name": "python",
   "nbconvert_exporter": "python",
   "pygments_lexer": "ipython3",
   "version": "3.9.13"
  }
 },
 "nbformat": 4,
 "nbformat_minor": 5
}
